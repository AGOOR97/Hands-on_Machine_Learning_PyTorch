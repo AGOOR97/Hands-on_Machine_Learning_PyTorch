{
 "cells": [
  {
   "cell_type": "markdown",
   "id": "24a96d02",
   "metadata": {},
   "source": [
    "### This NoteBook provides some Notes about PyTorch Fundamental"
   ]
  },
  {
   "cell_type": "code",
   "execution_count": 1,
   "id": "652b30ea",
   "metadata": {},
   "outputs": [],
   "source": [
    "import numpy as np\n",
    "import torch\n",
    "import torch.nn as nn\n",
    "from torchvision import datasets"
   ]
  },
  {
   "cell_type": "code",
   "execution_count": 2,
   "id": "c73505a8",
   "metadata": {},
   "outputs": [
    {
     "data": {
      "text/plain": [
       "device(type='cpu')"
      ]
     },
     "execution_count": 2,
     "metadata": {},
     "output_type": "execute_result"
    }
   ],
   "source": [
    "## check cuda\n",
    "device = torch.device('cuda' if torch.cuda.is_available() else 'cpu')\n",
    "device"
   ]
  },
  {
   "cell_type": "code",
   "execution_count": 3,
   "id": "b0b7788a",
   "metadata": {},
   "outputs": [
    {
     "name": "stdout",
     "output_type": "stream",
     "text": [
      "tensor([[1, 2, 3, 4],\n",
      "        [5, 6, 7, 8]], dtype=torch.int32)\n",
      "[[1 2 3 4]\n",
      " [5 6 7 8]]\n"
     ]
    }
   ],
   "source": [
    "## from numpy to tensor and from tensor to numpy\n",
    "a = np.array([[1,2,3,4],[5,6,7,8]])\n",
    "b = torch.from_numpy(a)\n",
    "print(b)\n",
    "c = b.numpy()\n",
    "print(c)"
   ]
  },
  {
   "cell_type": "code",
   "execution_count": 4,
   "id": "07f45cf1",
   "metadata": {},
   "outputs": [
    {
     "data": {
      "text/plain": [
       "tensor([1., 1., 1., 1., 1.], requires_grad=True)"
      ]
     },
     "execution_count": 4,
     "metadata": {},
     "output_type": "execute_result"
    }
   ],
   "source": [
    "## device and requires_grad parameters\n",
    "my_device = ('cuda' if torch.cuda.is_available() else 'cpu')\n",
    "x = torch.ones(5, device=device, requires_grad=True)    \n",
    "## requires_grad ----> calculate gradients for optimization\n",
    "x"
   ]
  },
  {
   "cell_type": "markdown",
   "id": "50e3717d",
   "metadata": {},
   "source": [
    "`Calculate the gradients with Autograd`"
   ]
  },
  {
   "cell_type": "code",
   "execution_count": 5,
   "id": "d3d65160",
   "metadata": {},
   "outputs": [
    {
     "name": "stdout",
     "output_type": "stream",
     "text": [
      "x --> \n",
      " tensor([ 1.3509, -1.7170,  1.8842], requires_grad=True)\n",
      "y --> \n",
      " tensor([3.3509, 0.2830, 3.8842], grad_fn=<AddBackward0>)\n",
      "z --> \n",
      " tensor(17.5973, grad_fn=<MeanBackward0>)\n",
      "gradient --> \n",
      " tensor([4.4678, 0.3774, 5.1790])\n"
     ]
    }
   ],
   "source": [
    "## Calculate gradients with Autograd\n",
    "x = torch.randn(3, requires_grad=True)\n",
    "print('x --> \\n', x)\n",
    "\n",
    "y = x + 2\n",
    "print('y --> \\n', y)\n",
    "\n",
    "z = y * y * 2\n",
    "z = z.mean()\n",
    "print('z --> \\n', z)\n",
    "\n",
    "z.backward()  ## dz/dx\n",
    "\n",
    "## get the graients\n",
    "print('gradient --> \\n', x.grad)"
   ]
  },
  {
   "cell_type": "code",
   "execution_count": 6,
   "id": "358b2401",
   "metadata": {},
   "outputs": [
    {
     "name": "stdout",
     "output_type": "stream",
     "text": [
      "x --> \n",
      " tensor([[4., 2., 5., 3., 5.],\n",
      "        [0., 3., 5., 3., 1.],\n",
      "        [6., 4., 2., 6., 6.],\n",
      "        [6., 6., 3., 1., 3.],\n",
      "        [2., 3., 0., 1., 4.]], requires_grad=True)\n",
      "y --> \n",
      " tensor([[21.,  9., 30., 14., 30.],\n",
      "        [ 5., 14., 30., 14.,  6.],\n",
      "        [41., 21.,  9., 41., 41.],\n",
      "        [41., 41., 14.,  6., 14.],\n",
      "        [ 9., 14.,  5.,  6., 21.]], grad_fn=<AddBackward0>)\n",
      "z --> \n",
      " tensor(19.8800, grad_fn=<MeanBackward0>)\n",
      "gradient --> \n",
      " tensor([[0.3200, 0.1600, 0.4000, 0.2400, 0.4000],\n",
      "        [0.0000, 0.2400, 0.4000, 0.2400, 0.0800],\n",
      "        [0.4800, 0.3200, 0.1600, 0.4800, 0.4800],\n",
      "        [0.4800, 0.4800, 0.2400, 0.0800, 0.2400],\n",
      "        [0.1600, 0.2400, 0.0000, 0.0800, 0.3200]])\n"
     ]
    }
   ],
   "source": [
    "x = torch.randint(low=0, high=7, size=(5,5), dtype=torch.float32, requires_grad=True)\n",
    "print('x --> \\n', x)\n",
    "\n",
    "y = x**2 + 5\n",
    "print('y --> \\n', y)\n",
    "\n",
    "z = y.mean()\n",
    "print('z --> \\n', z)\n",
    "\n",
    "z.backward() ## dz/dx\n",
    "\n",
    "## get the graients\n",
    "print('gradient --> \\n', x.grad)"
   ]
  },
  {
   "cell_type": "markdown",
   "id": "a410518a",
   "metadata": {},
   "source": [
    "#### Done!"
   ]
  }
 ],
 "metadata": {
  "kernelspec": {
   "display_name": "Python 3 (ipykernel)",
   "language": "python",
   "name": "python3"
  },
  "language_info": {
   "codemirror_mode": {
    "name": "ipython",
    "version": 3
   },
   "file_extension": ".py",
   "mimetype": "text/x-python",
   "name": "python",
   "nbconvert_exporter": "python",
   "pygments_lexer": "ipython3",
   "version": "3.8.8"
  }
 },
 "nbformat": 4,
 "nbformat_minor": 5
}
